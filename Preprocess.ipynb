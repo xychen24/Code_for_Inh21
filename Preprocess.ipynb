{
 "cells": [
  {
   "cell_type": "code",
   "execution_count": null,
   "metadata": {
    "vscode": {
     "languageId": "r"
    }
   },
   "outputs": [],
   "source": [
    "library(Signac)\n",
    "library(Seurat)\n",
    "library(GenomicRanges)\n",
    "library(future)\n",
    "library(ggplot2)\n",
    "library(patchwork)\n",
    "library(EnsDb.Hsapiens.v86)\n",
    "library(SingleCellExperiment)\n",
    "suppressPackageStartupMessages(library(scDblFinder))\n",
    "library(tidyverse)"
   ]
  },
  {
   "cell_type": "code",
   "execution_count": null,
   "metadata": {
    "vscode": {
     "languageId": "r"
    }
   },
   "outputs": [],
   "source": [
    "# ----------------set path\n",
    "setwd(\"...\")\n"
   ]
  },
  {
   "cell_type": "code",
   "execution_count": null,
   "metadata": {
    "vscode": {
     "languageId": "r"
    }
   },
   "outputs": [],
   "source": [
    "# ----------------load annotations\n",
    "annotations <- GetGRangesFromEnsDb(ensdb = EnsDb.Hsapiens.v86)\n",
    "# change to UCSC style since the data was mapped to hg38\n",
    "seqlevels(annotations) <- paste0('chr', seqlevels(annotations))\n",
    "genome(annotations) <- \"hg38\""
   ]
  },
  {
   "cell_type": "markdown",
   "metadata": {},
   "source": [
    "# Creating a commom peak set"
   ]
  },
  {
   "cell_type": "code",
   "execution_count": null,
   "metadata": {
    "vscode": {
     "languageId": "r"
    }
   },
   "outputs": [],
   "source": [
    "# read in peak sets\n",
    "peaks_dmso <- read.table(\n",
    "  file = \".../DMSO_report/filtered_peak_bc_matrix/peaks.bed\",\n",
    "  col.names = c(\"chr\", \"start\", \"end\")\n",
    ")\n",
    "peaks_inh21 <- read.table(\n",
    "  file = \".../Inhibitor_21_report/filtered_peak_bc_matrix/peaks.bed\",\n",
    "  col.names = c(\"chr\", \"start\", \"end\")\n",
    ")"
   ]
  },
  {
   "cell_type": "code",
   "execution_count": null,
   "metadata": {
    "vscode": {
     "languageId": "r"
    }
   },
   "outputs": [],
   "source": [
    "# convert to genomic ranges\n",
    "gr_dmso <- makeGRangesFromDataFrame(peaks_dmso)\n",
    "gr_inh21 <- makeGRangesFromDataFrame(peaks_inh21)\n",
    "# Create a unified set of peaks to quantify in each dataset\n",
    "combined_peaks <- GenomicRanges::reduce(c(gr_dmso, gr_inh21))\n",
    "# Filter out bad peaks based on length\n",
    "peakwidths <- width(combined_peaks)\n",
    "# filter\n",
    "combined_peaks <- combined_peaks[peakwidths  < 10000 & peakwidths > 20]"
   ]
  },
  {
   "cell_type": "markdown",
   "metadata": {},
   "source": [
    "# Create Fragment objects"
   ]
  },
  {
   "cell_type": "code",
   "execution_count": null,
   "metadata": {
    "vscode": {
     "languageId": "r"
    }
   },
   "outputs": [],
   "source": [
    "# load metadata\n",
    "md_dmso <- read.table(\n",
    "  file = \".../DMSO_report/singlecell.csv\",\n",
    "  stringsAsFactors = FALSE,\n",
    "  sep = \",\",\n",
    "  header = TRUE,\n",
    "  row.names = 1\n",
    ")[-1, ] # remove the first row\n",
    "\n",
    "md_inh21 <- read.table(\n",
    "  file = \".../Inhibitor_21_report/singlecell.csv\",\n",
    "  stringsAsFactors = FALSE,\n",
    "  sep = \",\",\n",
    "  header = TRUE,\n",
    "  row.names = 1\n",
    ")[-1, ]\n",
    "# perform an initial filtering of low count cells\n",
    "md_dmso <- md_dmso[md_dmso$passed_filters > 500, ]\n",
    "md_inh21 <- md_inh21[md_inh21$passed_filters > 500, ]\n",
    "# create fragment objects\n",
    "frags_dmso <- CreateFragmentObject(\n",
    "  path = \".../DMSO_report/fragments.tsv.gz\",\n",
    "  cells = rownames(md_dmso)\n",
    ")\n",
    "frags_inh21 <- CreateFragmentObject(\n",
    "  path = \".../Inhibitor_21_report/fragments.tsv.gz\",\n",
    "  cells = rownames(md_inh21)\n",
    ")"
   ]
  },
  {
   "cell_type": "markdown",
   "metadata": {},
   "source": [
    "# Quantify peaks in each dataset"
   ]
  },
  {
   "cell_type": "code",
   "execution_count": null,
   "metadata": {
    "vscode": {
     "languageId": "r"
    }
   },
   "outputs": [],
   "source": [
    "dmso_counts <- FeatureMatrix(\n",
    "  fragments = frags_dmso,\n",
    "  features = combined_peaks,\n",
    "  cells = rownames(md_dmso)\n",
    ")\n",
    "\n",
    "inh21_counts <- FeatureMatrix(\n",
    "  fragments = frags_inh21,\n",
    "  features = combined_peaks,\n",
    "  cells = rownames(md_inh21)\n",
    ")"
   ]
  },
  {
   "cell_type": "markdown",
   "metadata": {},
   "source": [
    "# Create the objects"
   ]
  },
  {
   "cell_type": "code",
   "execution_count": 36,
   "metadata": {
    "vscode": {
     "languageId": "r"
    }
   },
   "outputs": [],
   "source": [
    "dmso_assay <- CreateChromatinAssay(dmso_counts, fragments = frags_dmso,annotation = annotations)\n",
    "dmso <- CreateSeuratObject(dmso_assay, assay = \"ATAC\", meta.data=md_dmso)\n",
    "\n",
    "inh21_assay <- CreateChromatinAssay(inh21_counts, fragments = frags_inh21,annotation = annotations)\n",
    "inh21 <- CreateSeuratObject(inh21_assay, assay = \"ATAC\", meta.data=md_inh21)"
   ]
  },
  {
   "cell_type": "markdown",
   "metadata": {},
   "source": [
    "# Quality control"
   ]
  },
  {
   "cell_type": "markdown",
   "metadata": {},
   "source": [
    "## dmso"
   ]
  },
  {
   "cell_type": "code",
   "execution_count": null,
   "metadata": {
    "vscode": {
     "languageId": "r"
    }
   },
   "outputs": [],
   "source": [
    "dmso <- NucleosomeSignal(object = dmso)\n",
    "dmso <- TSSEnrichment(object = dmso,fast=FALSE)\n",
    "## add blacklist ratio and fraction of reads in peaks\n",
    "dmso$pct_reads_in_peaks <- dmso$peak_region_fragments / dmso$passed_filters * 100\n",
    "dmso$blacklist_ratio <- dmso$blacklist_region_fragments / dmso$peak_region_fragments\n",
    "dmso$high.tss <- ifelse(dmso$TSS.enrichment > 3, 'High', 'Low')\n",
    "TSSPlot(dmso, group.by = 'high.tss') + NoLegend()\n",
    "dmso$nucleosome_group <- ifelse(dmso$nucleosome_signal > 1.2, 'NS > 1.2', 'NS < 1.2')\n",
    "FragmentHistogram(object = dmso, group.by = 'nucleosome_group')"
   ]
  },
  {
   "cell_type": "code",
   "execution_count": null,
   "metadata": {
    "vscode": {
     "languageId": "r"
    }
   },
   "outputs": [],
   "source": [
    "#subset once\n",
    "dmso <- subset(x = dmso,\n",
    "            subset = nCount_ATAC > 500 &\n",
    "            nCount_ATAC < 12000 &\n",
    "            TSS.enrichment > 3 &\n",
    "            pct_reads_in_peaks > 40 &\n",
    "            #blacklist_ratio < 0.05 &\n",
    "            nucleosome_signal < 1.2)"
   ]
  },
  {
   "cell_type": "code",
   "execution_count": null,
   "metadata": {
    "vscode": {
     "languageId": "r"
    }
   },
   "outputs": [],
   "source": [
    "#subset twice\n",
    "# https://plger.github.io/scDblFinder/articles/scATAC.html\n",
    "set.seed(123)\n",
    "sce <- as.SingleCellExperiment(dmso)\n",
    "sce <- scDblFinder(sce, aggregateFeatures=TRUE, nfeatures=25, processing=\"normFeatures\")\n",
    "# identical(colnames(seu), colnames(sce))\n",
    "dmso[[\"scDblFinder_score\"]] <- sce$scDblFinder.score\n",
    "dmso[[\"scDblFinder_class\"]] <- sce$scDblFinder.class\n",
    "dmso <- dmso[,dmso$scDblFinder_class %in% c(\"singlet\")]"
   ]
  },
  {
   "cell_type": "markdown",
   "metadata": {},
   "source": [
    "## inh21"
   ]
  },
  {
   "cell_type": "code",
   "execution_count": null,
   "metadata": {
    "vscode": {
     "languageId": "r"
    }
   },
   "outputs": [],
   "source": [
    "inh21 <- NucleosomeSignal(object = inh21)\n",
    "inh21 <- TSSEnrichment(object = inh21, fast = FALSE)\n",
    "## add blacklist ratio and fraction of reads in peaks\n",
    "inh21$pct_reads_in_peaks <- inh21$peak_region_fragments / inh21$passed_filters * 100\n",
    "inh21$blacklist_ratio <- inh21$blacklist_region_fragments / inh21$peak_region_fragments\n",
    "inh21$high.tss <- ifelse(inh21$TSS.enrichment > 3, 'High', 'Low')\n",
    "inh21$nucleosome_group <- ifelse(inh21$nucleosome_signal > 1.2, 'NS > 1.2', 'NS < 1.2')"
   ]
  },
  {
   "cell_type": "code",
   "execution_count": null,
   "metadata": {
    "vscode": {
     "languageId": "r"
    }
   },
   "outputs": [],
   "source": [
    "inh21 <- subset(x = inh21,\n",
    "            subset = nCount_ATAC > 500 &\n",
    "            nCount_ATAC < 12000 &\n",
    "            TSS.enrichment > 3 &\n",
    "            pct_reads_in_peaks > 40 &\n",
    "            blacklist_ratio < 0.05 &\n",
    "            nucleosome_signal < 1.2)"
   ]
  },
  {
   "cell_type": "code",
   "execution_count": null,
   "metadata": {
    "vscode": {
     "languageId": "r"
    }
   },
   "outputs": [],
   "source": [
    "sce <- as.SingleCellExperiment(inh21)\n",
    "sce <- scDblFinder(sce, artificialDoublets=1, aggregateFeatures=TRUE, nfeatures=25, processing=\"normFeatures\")\n",
    "# identical(colnames(seu), colnames(sce))\n",
    "inh21[[\"scDblFinder_score\"]] <- sce$scDblFinder.score\n",
    "inh21[[\"scDblFinder_class\"]] <- sce$scDblFinder.class\n",
    "inh21 <- inh21[,inh21$scDblFinder_class %in% c(\"singlet\")]\n"
   ]
  },
  {
   "cell_type": "markdown",
   "metadata": {},
   "source": [
    "# Merge objects"
   ]
  },
  {
   "cell_type": "code",
   "execution_count": null,
   "metadata": {
    "vscode": {
     "languageId": "r"
    }
   },
   "outputs": [],
   "source": [
    "dmso <- readRDS(\".../dmso_afterfilter.rds\")\n",
    "inh21 <- readRDS(\".../inh21_afterfilter.rds\")"
   ]
  },
  {
   "cell_type": "code",
   "execution_count": 110,
   "metadata": {
    "vscode": {
     "languageId": "r"
    }
   },
   "outputs": [],
   "source": [
    "dmso$treat <- \"dmso\"\n",
    "inh21$treat <- \"inh21\""
   ]
  },
  {
   "cell_type": "code",
   "execution_count": 111,
   "metadata": {
    "vscode": {
     "languageId": "r"
    }
   },
   "outputs": [
    {
     "data": {
      "text/plain": [
       "ChromatinAssay data with 276418 features for 25343 cells\n",
       "Variable features: 0 \n",
       "Genome: \n",
       "Annotation present: TRUE \n",
       "Motifs present: FALSE \n",
       "Fragment files: 2 "
      ]
     },
     "metadata": {},
     "output_type": "display_data"
    }
   ],
   "source": [
    "combined <- merge(\n",
    "  x = dmso,\n",
    "  y = inh21,\n",
    "  add.cell.ids = c(\"dmso\", \"inh21\")\n",
    ")\n",
    "combined[[\"ATAC\"]]"
   ]
  },
  {
   "cell_type": "markdown",
   "metadata": {},
   "source": [
    "## Normalization and linear and Non-linear dimension reduction"
   ]
  },
  {
   "cell_type": "code",
   "execution_count": null,
   "metadata": {
    "vscode": {
     "languageId": "r"
    }
   },
   "outputs": [],
   "source": [
    "# Normalization and linear dimensional reduction\n",
    "combined <- RunTFIDF(combined)\n",
    "combined <- FindTopFeatures(combined, min.cutoff = 'q0')\n",
    "combined <- RunSVD(combined)\n",
    "options(repr.plot.width=9, repr.plot.height=9)\n",
    "DepthCor(combined, n =50)"
   ]
  },
  {
   "cell_type": "code",
   "execution_count": null,
   "metadata": {
    "vscode": {
     "languageId": "r"
    }
   },
   "outputs": [],
   "source": [
    "pc <- 30\n",
    "# Non-linear dimension reduction\n",
    "combined <- RunUMAP(combined, dims = 2:pc, reduction = 'lsi')"
   ]
  },
  {
   "cell_type": "markdown",
   "metadata": {},
   "source": [
    "# Clustering"
   ]
  },
  {
   "cell_type": "code",
   "execution_count": 120,
   "metadata": {
    "vscode": {
     "languageId": "r"
    }
   },
   "outputs": [],
   "source": [
    "DefaultAssay(combined) <- \"ATAC\""
   ]
  },
  {
   "cell_type": "code",
   "execution_count": 121,
   "metadata": {
    "vscode": {
     "languageId": "r"
    }
   },
   "outputs": [],
   "source": [
    "rsl <- seq(0.02, 0.2, by = 0.02)"
   ]
  },
  {
   "cell_type": "code",
   "execution_count": null,
   "metadata": {
    "vscode": {
     "languageId": "r"
    }
   },
   "outputs": [],
   "source": [
    "combined <- FindNeighbors(combined, reduction = 'lsi', dims = 2:pc) %>% \n",
    "                FindClusters(verbose = FALSE,resolution = rsl, algorithm = 3)"
   ]
  },
  {
   "cell_type": "code",
   "execution_count": null,
   "metadata": {
    "vscode": {
     "languageId": "r"
    }
   },
   "outputs": [],
   "source": [
    "options(repr.plot.width=9, repr.plot.height=9)\n",
    "DimPlot(object = combined, group.by = 'ATAC_snn_res.0.14',label = TRUE)"
   ]
  },
  {
   "cell_type": "markdown",
   "metadata": {},
   "source": [
    "# Gene activity together"
   ]
  },
  {
   "cell_type": "code",
   "execution_count": 127,
   "metadata": {
    "vscode": {
     "languageId": "r"
    }
   },
   "outputs": [
    {
     "name": "stderr",
     "output_type": "stream",
     "text": [
      "Extracting gene coordinates\n",
      "\n",
      "Warning message in SingleFeatureMatrix(fragment = fragments[[x]], features = features, :\n",
      "\"13 features are on seqnames not present in the fragment file. These will be removed.\"\n",
      "Extracting reads overlapping genomic regions\n",
      "\n",
      "Warning message in SingleFeatureMatrix(fragment = fragments[[x]], features = features, :\n",
      "\"13 features are on seqnames not present in the fragment file. These will be removed.\"\n",
      "Extracting reads overlapping genomic regions\n",
      "\n"
     ]
    }
   ],
   "source": [
    "gene.activities <- GeneActivity(combined)"
   ]
  },
  {
   "cell_type": "code",
   "execution_count": 128,
   "metadata": {
    "vscode": {
     "languageId": "r"
    }
   },
   "outputs": [],
   "source": [
    "# add the gene activity matrix to the Seurat object as a new assay and normalize it\n",
    "combined[['geneactivity']] <- CreateAssayObject(counts = gene.activities)"
   ]
  },
  {
   "cell_type": "code",
   "execution_count": 129,
   "metadata": {
    "vscode": {
     "languageId": "r"
    }
   },
   "outputs": [
    {
     "data": {
      "text/plain": [
       "An object of class Seurat \n",
       "296038 features across 25343 samples within 2 assays \n",
       "Active assay: ATAC (276418 features, 276418 variable features)\n",
       " 2 layers present: counts, data\n",
       " 1 other assay present: geneactivity\n",
       " 2 dimensional reductions calculated: lsi, umap"
      ]
     },
     "metadata": {},
     "output_type": "display_data"
    }
   ],
   "source": [
    "combined"
   ]
  },
  {
   "cell_type": "code",
   "execution_count": 131,
   "metadata": {
    "vscode": {
     "languageId": "r"
    }
   },
   "outputs": [],
   "source": [
    "DefaultAssay(combined) <- \"geneactivity\""
   ]
  },
  {
   "cell_type": "code",
   "execution_count": 132,
   "metadata": {
    "vscode": {
     "languageId": "r"
    }
   },
   "outputs": [
    {
     "data": {
      "text/plain": [
       "An object of class Seurat \n",
       "296038 features across 25343 samples within 2 assays \n",
       "Active assay: geneactivity (19620 features, 0 variable features)\n",
       " 2 layers present: counts, data\n",
       " 1 other assay present: ATAC\n",
       " 2 dimensional reductions calculated: lsi, umap"
      ]
     },
     "metadata": {},
     "output_type": "display_data"
    }
   ],
   "source": [
    "combined"
   ]
  },
  {
   "cell_type": "code",
   "execution_count": 133,
   "metadata": {
    "vscode": {
     "languageId": "r"
    }
   },
   "outputs": [
    {
     "name": "stderr",
     "output_type": "stream",
     "text": [
      "Centering and scaling data matrix\n",
      "\n"
     ]
    }
   ],
   "source": [
    "combined <- FindVariableFeatures(combined)\n",
    "combined <- NormalizeData(\n",
    "    object = combined,\n",
    "    assay = 'geneactivity',\n",
    "    normalization.method = 'LogNormalize',\n",
    "    scale.factor = median(combined$nCount_geneactivity)\n",
    ")\n",
    "combined <- ScaleData(combined)"
   ]
  }
 ],
 "metadata": {
  "kernelspec": {
   "display_name": "R",
   "language": "R",
   "name": "ir"
  },
  "language_info": {
   "codemirror_mode": "r",
   "file_extension": ".r",
   "mimetype": "text/x-r-source",
   "name": "R",
   "pygments_lexer": "r",
   "version": "4.3.3"
  }
 },
 "nbformat": 4,
 "nbformat_minor": 2
}
