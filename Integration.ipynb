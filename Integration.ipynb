{
 "cells": [
  {
   "cell_type": "code",
   "execution_count": null,
   "metadata": {
    "vscode": {
     "languageId": "r"
    }
   },
   "outputs": [],
   "source": [
    "library(Signac)\n",
    "library(Seurat)\n",
    "library(SeuratWrappers)\n",
    "library(ggplot2)\n",
    "library(tidyverse)\n",
    "library(harmony)\n",
    "library(future)\n",
    "library(patchwork)\n",
    "library(EnsDb.Hsapiens.v86)\n",
    "library(futile.logger)"
   ]
  },
  {
   "cell_type": "code",
   "execution_count": null,
   "metadata": {
    "vscode": {
     "languageId": "r"
    }
   },
   "outputs": [],
   "source": [
    "setwd(\"...\")"
   ]
  },
  {
   "cell_type": "markdown",
   "metadata": {},
   "source": [
    "# Load and check"
   ]
  },
  {
   "cell_type": "code",
   "execution_count": null,
   "metadata": {
    "vscode": {
     "languageId": "r"
    }
   },
   "outputs": [],
   "source": [
    "# rna\n",
    "obj_rna <- readRDS(file = \".../seu.combined.rds\")"
   ]
  },
  {
   "cell_type": "code",
   "execution_count": null,
   "metadata": {
    "vscode": {
     "languageId": "r"
    }
   },
   "outputs": [],
   "source": [
    "obj_atac <- readRDS(\".../combined_filter_final.rds\")"
   ]
  },
  {
   "cell_type": "code",
   "execution_count": 80,
   "metadata": {
    "vscode": {
     "languageId": "r"
    }
   },
   "outputs": [],
   "source": [
    "Idents(obj_rna) <- \"treat\"\n",
    "obj_rna <- RenameIdents(obj_rna,'DMSO' = \"dmso\",\n",
    "                        'Inh21' = \"inh21\")\n",
    "obj_rna$treat <- Idents(obj_rna)"
   ]
  },
  {
   "cell_type": "code",
   "execution_count": 91,
   "metadata": {
    "vscode": {
     "languageId": "r"
    }
   },
   "outputs": [],
   "source": [
    "# first add dataset-identifying metadata\n",
    "obj_rna$dataset <- \"RNAdataset\"\n",
    "obj_atac$dataset <- \"ATACdataset\""
   ]
  },
  {
   "cell_type": "markdown",
   "metadata": {},
   "source": [
    "# handle rna data RNA assay"
   ]
  },
  {
   "cell_type": "code",
   "execution_count": null,
   "metadata": {
    "vscode": {
     "languageId": "r"
    }
   },
   "outputs": [],
   "source": [
    "DefaultAssay(obj_rna) <- \"RNA\"\n",
    "obj_rna <- NormalizeData(obj_rna)\n",
    "obj_rna <- FindVariableFeatures(obj_rna)\n",
    "obj_rna <- ScaleData(obj_rna)\n",
    "obj_rna <- RunPCA(obj_rna, npcs = 50)\n",
    "PCs <- 30\n",
    "obj_rna <- RunUMAP(obj_rna, reduction = \"pca\", dims = 1:PCs) %>%\n",
    "  FindNeighbors(reduction = \"pca\", dims = 1:PCs) %>%\n",
    "  FindClusters(resolution = 0.1, verbose = FALSE) "
   ]
  },
  {
   "cell_type": "markdown",
   "metadata": {},
   "source": [
    "# Merge"
   ]
  },
  {
   "cell_type": "code",
   "execution_count": null,
   "metadata": {
    "vscode": {
     "languageId": "r"
    }
   },
   "outputs": [],
   "source": [
    "common_genes <- intersect(rownames(obj_rna@assays$RNA@counts), rownames(obj_atac@assays$RNA@counts))\n",
    "combined <- merge(obj_rna, obj_atac, add.cell.ids = c(\"rna\", \"atac\"))\n",
    "combined[[\"RNA\"]] <- split(combined[[\"RNA\"]], f = combined$dataset)\n",
    "combined <- NormalizeData(combined)\n",
    "combined <- FindVariableFeatures(combined)\n",
    "combined <- ScaleData(combined)\n",
    "combined <- RunPCA(combined)"
   ]
  },
  {
   "cell_type": "code",
   "execution_count": null,
   "metadata": {
    "vscode": {
     "languageId": "r"
    }
   },
   "outputs": [
    {
     "name": "stderr",
     "output_type": "stream",
     "text": [
      "Computing nearest neighbor graph\n",
      "\n",
      "Computing SNN\n",
      "\n"
     ]
    }
   ],
   "source": [
    "combined <- FindNeighbors(combined, dims = 1:30, reduction = \"pca\")\n",
    "combined <- FindClusters(combined, resolution = 0.1, cluster.name = \"unintegrated_clusters\")\n",
    "combined <- RunUMAP(combined, dims = 1:30, reduction = \"pca\", reduction.name = \"umap.unintegrated\")"
   ]
  },
  {
   "cell_type": "markdown",
   "metadata": {},
   "source": [
    "# Integration_cca"
   ]
  },
  {
   "cell_type": "code",
   "execution_count": null,
   "metadata": {
    "vscode": {
     "languageId": "r"
    }
   },
   "outputs": [],
   "source": [
    "combined <- IntegrateLayers(object = combined, method = CCAIntegration, orig.reduction = \"pca\", new.reduction = \"integrated.cca\",\n",
    "    verbose = FALSE)\n",
    "# re-join layers after integration\n",
    "combined[[\"RNA\"]] <- JoinLayers(combined[[\"RNA\"]])\n",
    "inte_pc <- 20\n",
    "combined <- RunUMAP(combined, dims = 1:inte_pc, reduction = \"integrated.cca\",reduction.name = \"umap.integrated\")"
   ]
  },
  {
   "cell_type": "code",
   "execution_count": null,
   "metadata": {
    "vscode": {
     "languageId": "r"
    }
   },
   "outputs": [],
   "source": [
    "rsl <- seq(0.1, 1, by = 0.1)\n",
    "combined <- FindNeighbors(combined, reduction = \"integrated.cca\", dims = 1:inte_pc)\n",
    "combined <- FindClusters(combined, resolution = rsl)"
   ]
  },
  {
   "cell_type": "code",
   "execution_count": null,
   "metadata": {
    "vscode": {
     "languageId": "r"
    }
   },
   "outputs": [],
   "source": [
    "Idents(combined) <- \"RNA_snn_res.0.5\"\n",
    "all_marker <- FindAllMarkers(combined,assay = \"RNA\", slot = \"data\")\n",
    "clusters_related_markers <- all_marker %>% \n",
    "  filter(p_val_adj < 0.05, avg_log2FC > 0, gene %in% gene_list)"
   ]
  }
 ],
 "metadata": {
  "kernelspec": {
   "display_name": "R",
   "language": "R",
   "name": "ir"
  },
  "language_info": {
   "codemirror_mode": "r",
   "file_extension": ".r",
   "mimetype": "text/x-r-source",
   "name": "R",
   "pygments_lexer": "r",
   "version": "4.3.3"
  }
 },
 "nbformat": 4,
 "nbformat_minor": 2
}
